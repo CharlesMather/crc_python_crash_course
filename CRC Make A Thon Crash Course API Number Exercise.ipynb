{
 "cells": [
  {
   "cell_type": "markdown",
   "metadata": {},
   "source": [
    "# CRC Make-A-Thon Crash Course - API Number Exercise"
   ]
  },
  {
   "cell_type": "markdown",
   "metadata": {},
   "source": [
    "Lets pick a API_14 number and assign it to a string variable."
   ]
  },
  {
   "cell_type": "code",
   "execution_count": 1,
   "metadata": {},
   "outputs": [
    {
     "name": "stdout",
     "output_type": "stream",
     "text": [
      "04030565740000\n"
     ]
    }
   ],
   "source": [
    "API_14 = '04030565740000'\n",
    "print(API_14)"
   ]
  },
  {
   "cell_type": "markdown",
   "metadata": {},
   "source": [
    "Lets then use API_14 to split the sting and find API_12, API_10, and API_8"
   ]
  },
  {
   "cell_type": "code",
   "execution_count": 2,
   "metadata": {},
   "outputs": [
    {
     "name": "stdout",
     "output_type": "stream",
     "text": [
      "040305657400\n",
      "0403056574\n",
      "03056574\n"
     ]
    }
   ],
   "source": [
    "API_12 = API_14[:12]\n",
    "print(API_12)\n",
    "\n",
    "API_10 = API_14[:10]\n",
    "print(API_10)\n",
    "\n",
    "API_8 = API_14[2:-4]\n",
    "print(API_8)"
   ]
  },
  {
   "cell_type": "markdown",
   "metadata": {},
   "source": [
    "## Lets present the results in a few ways"
   ]
  },
  {
   "cell_type": "markdown",
   "metadata": {},
   "source": [
    "### 1. Lets present the results in a simple way."
   ]
  },
  {
   "cell_type": "markdown",
   "metadata": {},
   "source": [
    " '\\t' creates a tab seporator within the string."
   ]
  },
  {
   "cell_type": "code",
   "execution_count": 3,
   "metadata": {},
   "outputs": [
    {
     "name": "stdout",
     "output_type": "stream",
     "text": [
      "API_14:\t04030565740000\n",
      "API_12:\t040305657400\n",
      "API_10:\t0403056574\n",
      "API_8:\t03056574\n"
     ]
    }
   ],
   "source": [
    "print('API_14:\\t' + API_14)\n",
    "print('API_12:\\t' + API_12)\n",
    "print('API_10:\\t' + API_10)\n",
    "print('API_8:\\t' + API_8)"
   ]
  },
  {
   "cell_type": "markdown",
   "metadata": {},
   "source": [
    "### 2. Lets present the results by passing the API strings to one string statement."
   ]
  },
  {
   "cell_type": "markdown",
   "metadata": {},
   "source": [
    " '\\n' creates a new line within the string."
   ]
  },
  {
   "cell_type": "code",
   "execution_count": 4,
   "metadata": {},
   "outputs": [
    {
     "name": "stdout",
     "output_type": "stream",
     "text": [
      "API_14:\t04030565740000\n",
      "API_12:\t040305657400\n",
      "API_10:\t0403056574\n",
      "API_8:\t03056574\n"
     ]
    }
   ],
   "source": [
    "str1 = '{}:\\t{}'.format('API_14', API_14)\n",
    "str2 = '{}:\\t{}'.format('API_12', API_12)\n",
    "str3 = '{}:\\t{}'.format('API_10', API_10)\n",
    "str4 = '{}:\\t{}'.format('API_8', API_8)\n",
    "\n",
    "statement = str1 + '\\n' + str2 + '\\n' + str3 + '\\n' + str4\n",
    "print(statement)"
   ]
  },
  {
   "cell_type": "markdown",
   "metadata": {},
   "source": [
    "### 3. Lets present the results by iterating over a list of the results."
   ]
  },
  {
   "cell_type": "markdown",
   "metadata": {},
   "source": [
    "First create two lists for our API varible names and values."
   ]
  },
  {
   "cell_type": "code",
   "execution_count": 5,
   "metadata": {},
   "outputs": [
    {
     "name": "stdout",
     "output_type": "stream",
     "text": [
      "['API_14', 'API_12', 'API_10', 'API_8']\n",
      "['04030565740000', '040305657400', '0403056574', '03056574']\n"
     ]
    }
   ],
   "source": [
    "API_names = ['API_14','API_12','API_10','API_8']\n",
    "print(API_names)\n",
    "\n",
    "API_values = [API_14, API_12, API_10, API_8]\n",
    "print(API_values)"
   ]
  },
  {
   "cell_type": "markdown",
   "metadata": {},
   "source": [
    "Then use a for loop to print API_no and API_vlaue iterating over a range from 0 to length of API names."
   ]
  },
  {
   "cell_type": "code",
   "execution_count": 6,
   "metadata": {},
   "outputs": [
    {
     "name": "stdout",
     "output_type": "stream",
     "text": [
      "API_14:\t04030565740000\n",
      "API_12:\t040305657400\n",
      "API_10:\t0403056574\n",
      "API_8:\t03056574\n"
     ]
    }
   ],
   "source": [
    "r = range(0, len(API_names))\n",
    "\n",
    "for i in r:\n",
    "    print('{}:\\t{}'.format(API_names[i],API_values[i]))"
   ]
  },
  {
   "cell_type": "markdown",
   "metadata": {},
   "source": [
    "### 4. Lets present the results by iterating over a dictionary of the results"
   ]
  },
  {
   "cell_type": "markdown",
   "metadata": {},
   "source": [
    "First create a dictionary of our API variables."
   ]
  },
  {
   "cell_type": "code",
   "execution_count": 7,
   "metadata": {},
   "outputs": [
    {
     "name": "stdout",
     "output_type": "stream",
     "text": [
      "{'API_14': '04030565740000', 'API_12': '040305657400', 'API_10': '0403056574', 'API_8': '03056574'}\n"
     ]
    }
   ],
   "source": [
    "API_dict = {'API_14':API_14, 'API_12':API_12, 'API_10':API_10, 'API_8':API_8}\n",
    "print(API_dict)"
   ]
  },
  {
   "cell_type": "markdown",
   "metadata": {},
   "source": [
    "Then use a for loop to print API variables iterating through the  dict."
   ]
  },
  {
   "cell_type": "code",
   "execution_count": 8,
   "metadata": {},
   "outputs": [
    {
     "name": "stdout",
     "output_type": "stream",
     "text": [
      "API_14:\t04030565740000\n",
      "API_12:\t040305657400\n",
      "API_10:\t0403056574\n",
      "API_8:\t03056574\n"
     ]
    }
   ],
   "source": [
    "for key, value in API_dict.items():\n",
    "    print('{}:\\t{}'.format(key,value))"
   ]
  },
  {
   "cell_type": "markdown",
   "metadata": {},
   "source": [
    "# Lets assume our well was redrilled. We will need to update the API_14."
   ]
  },
  {
   "cell_type": "markdown",
   "metadata": {},
   "source": [
    "For redrilled wells the API_12 value updates by 1."
   ]
  },
  {
   "cell_type": "markdown",
   "metadata": {},
   "source": [
    "The API update can be done by using a sting replace."
   ]
  },
  {
   "cell_type": "code",
   "execution_count": 9,
   "metadata": {},
   "outputs": [
    {
     "name": "stdout",
     "output_type": "stream",
     "text": [
      "org_API_14:\t04030565740000\n",
      "new_API_14:\t04030565740100\n"
     ]
    }
   ],
   "source": [
    "API_14 = '04030565740000'\n",
    "new_API_14 = API_14.replace('0000','0100')\n",
    "\n",
    "print('org_API_14:\\t' + API_14)\n",
    "print('new_API_14:\\t' + new_API_14)"
   ]
  },
  {
   "cell_type": "markdown",
   "metadata": {},
   "source": [
    "Or we could find the API_10 and add the updated last four values."
   ]
  },
  {
   "cell_type": "code",
   "execution_count": 10,
   "metadata": {},
   "outputs": [
    {
     "name": "stdout",
     "output_type": "stream",
     "text": [
      "org_API_14:\t04030565740000\n",
      "new_API_14:\t04030565740100\n"
     ]
    }
   ],
   "source": [
    "API_10 = API_14[:10]\n",
    "new_API_14 = API_10 + '0100'\n",
    "\n",
    "print('org_API_14:\\t' + API_14)\n",
    "print('new_API_14:\\t' + new_API_14)"
   ]
  },
  {
   "cell_type": "markdown",
   "metadata": {},
   "source": [
    "Or we can split AP_14 befor and after the 12 value."
   ]
  },
  {
   "cell_type": "code",
   "execution_count": 11,
   "metadata": {},
   "outputs": [
    {
     "name": "stdout",
     "output_type": "stream",
     "text": [
      "org_API_14:\t04030565740000\n",
      "new_API_14:\t04030565740100\n"
     ]
    }
   ],
   "source": [
    "new_API_14 = API_14[:11] + '1' + API_14[12:]\n",
    "\n",
    "print('org_API_14:\\t' + API_14)\n",
    "print('new_API_14:\\t' + new_API_14)"
   ]
  },
  {
   "cell_type": "markdown",
   "metadata": {},
   "source": [
    "Or we can change the API_12 directly."
   ]
  },
  {
   "cell_type": "code",
   "execution_count": 12,
   "metadata": {},
   "outputs": [
    {
     "name": "stdout",
     "output_type": "stream",
     "text": [
      "org_API_14:\t04030565740000\n",
      "new_API_14:\t04030565740100\n"
     ]
    }
   ],
   "source": [
    "s = list(API_14)\n",
    "s[11] = '1'\n",
    "new_API_14 = ''.join(s)\n",
    "\n",
    "print('org_API_14:\\t' + API_14)\n",
    "print('new_API_14:\\t' + new_API_14)"
   ]
  },
  {
   "cell_type": "code",
   "execution_count": null,
   "metadata": {},
   "outputs": [],
   "source": []
  }
 ],
 "metadata": {
  "kernelspec": {
   "display_name": "Python 3",
   "language": "python",
   "name": "python3"
  },
  "language_info": {
   "codemirror_mode": {
    "name": "ipython",
    "version": 3
   },
   "file_extension": ".py",
   "mimetype": "text/x-python",
   "name": "python",
   "nbconvert_exporter": "python",
   "pygments_lexer": "ipython3",
   "version": "3.7.0"
  }
 },
 "nbformat": 4,
 "nbformat_minor": 2
}
