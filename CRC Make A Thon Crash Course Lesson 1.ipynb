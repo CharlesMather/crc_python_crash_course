{
 "cells": [
  {
   "cell_type": "markdown",
   "metadata": {},
   "source": [
    "# CRC Make-A-Thon Crash Course"
   ]
  },
  {
   "cell_type": "markdown",
   "metadata": {},
   "source": [
    "## Let's manipulate text (Called 'Strings' or 'Character Arrays' in programmer speak)"
   ]
  },
  {
   "cell_type": "markdown",
   "metadata": {},
   "source": [
    "When you are working with text in Python you enclose the text in quotations."
   ]
  },
  {
   "cell_type": "code",
   "execution_count": 1,
   "metadata": {},
   "outputs": [
    {
     "data": {
      "text/plain": [
       "'I am a string'"
      ]
     },
     "execution_count": 1,
     "metadata": {},
     "output_type": "execute_result"
    }
   ],
   "source": [
    "'I am a string'"
   ]
  },
  {
   "cell_type": "markdown",
   "metadata": {},
   "source": [
    " Python does not care about which type of quotation you use."
   ]
  },
  {
   "cell_type": "code",
   "execution_count": 2,
   "metadata": {},
   "outputs": [
    {
     "data": {
      "text/plain": [
       "'I am also a string'"
      ]
     },
     "execution_count": 2,
     "metadata": {},
     "output_type": "execute_result"
    }
   ],
   "source": [
    "\"I am also a string\""
   ]
  },
  {
   "cell_type": "markdown",
   "metadata": {},
   "source": [
    "Try creating a string in the code block below that says something (it can be funny!)"
   ]
  },
  {
   "cell_type": "code",
   "execution_count": null,
   "metadata": {},
   "outputs": [],
   "source": []
  },
  {
   "cell_type": "markdown",
   "metadata": {},
   "source": [
    "We can **assign** text (or strings) to a variable"
   ]
  },
  {
   "cell_type": "code",
   "execution_count": 3,
   "metadata": {},
   "outputs": [],
   "source": [
    "my_awesome_string = 'You guys are great!'"
   ]
  },
  {
   "cell_type": "markdown",
   "metadata": {},
   "source": [
    "Note that after you run that block there is no 'Out[#]' block or any output at all, if we want to see what is in a variable we have to print() "
   ]
  },
  {
   "cell_type": "code",
   "execution_count": 4,
   "metadata": {},
   "outputs": [
    {
     "name": "stdout",
     "output_type": "stream",
     "text": [
      "You guys are great!\n"
     ]
    }
   ],
   "source": [
    "print(my_awesome_string)"
   ]
  },
  {
   "cell_type": "markdown",
   "metadata": {},
   "source": [
    "You can also (in jupyter notebook at least) just put the variable by itself to generate an output"
   ]
  },
  {
   "cell_type": "code",
   "execution_count": 5,
   "metadata": {},
   "outputs": [
    {
     "data": {
      "text/plain": [
       "'You guys are great!'"
      ]
     },
     "execution_count": 5,
     "metadata": {},
     "output_type": "execute_result"
    }
   ],
   "source": [
    "my_awesome_string"
   ]
  },
  {
   "cell_type": "markdown",
   "metadata": {},
   "source": [
    "You can make strings any length you want, by convention long strings are divided up into lines and formatted neatly."
   ]
  },
  {
   "cell_type": "code",
   "execution_count": 6,
   "metadata": {},
   "outputs": [
    {
     "name": "stdout",
     "output_type": "stream",
     "text": [
      "This is a story of a well. This well was a special plan by geologist to test his his idea, he was sure it would work. He sent the points off to his drilling engineer, and his manager was excited. Permits in hand they drilled the well. After many trials and bits they finally reached TD. There was no oil in the zone thegeologist targeted, fighting back the urge to cry he desparately recommended a test of a zone up hole that looked promising. It was a monster, producing thousands of barrels a day. He was hailed as a hero for his genius. (And lived happily every after)\n"
     ]
    }
   ],
   "source": [
    "long_string = ('This is a story of a well. This well was a special plan by geologist to test his '\n",
    "               'his idea, he was sure it would work. He sent the points off to his drilling engi'\n",
    "               'neer, and his manager was excited. Permits in hand they drilled the well. After'\n",
    "               ' many trials and bits they finally reached TD. There was no oil in the zone the'\n",
    "               'geologist targeted, fighting back the urge to cry he desparately recommended a'\n",
    "               ' test of a zone up hole that looked promising. It was a monster, producing thou'\n",
    "               'sands of barrels a day. He was hailed as a hero for his genius. (And lived happ'\n",
    "               'ily every after)')\n",
    "print(long_string)"
   ]
  },
  {
   "cell_type": "markdown",
   "metadata": {},
   "source": [
    "You can search in strings and replace parts of it"
   ]
  },
  {
   "cell_type": "code",
   "execution_count": 8,
   "metadata": {},
   "outputs": [
    {
     "name": "stdout",
     "output_type": "stream",
     "text": [
      "This is a story of a man. This man was a special plan by geologist to test his his idea, he was sure it would work. He sent the points off to his drilling engineer, and his manager was excited. Permits in hand they drilled the man. After many trials and bits they finally reached TD. There was no oil in the zone thegeologist targeted, fighting back the urge to cry he desparately recommended a test of a zone up hole that looked promising. It was a monster, producing thousands of barrels a day. He was hailed as a hero for his genius. (And lived happily every after)\n"
     ]
    }
   ],
   "source": [
    "new_long_string = long_string.replace('well', 'man')\n",
    "print(new_long_string)"
   ]
  },
  {
   "cell_type": "code",
   "execution_count": null,
   "metadata": {},
   "outputs": [],
   "source": []
  }
 ],
 "metadata": {
  "kernelspec": {
   "display_name": "Python 3",
   "language": "python",
   "name": "python3"
  },
  "language_info": {
   "codemirror_mode": {
    "name": "ipython",
    "version": 3
   },
   "file_extension": ".py",
   "mimetype": "text/x-python",
   "name": "python",
   "nbconvert_exporter": "python",
   "pygments_lexer": "ipython3",
   "version": "3.7.0"
  }
 },
 "nbformat": 4,
 "nbformat_minor": 2
}
