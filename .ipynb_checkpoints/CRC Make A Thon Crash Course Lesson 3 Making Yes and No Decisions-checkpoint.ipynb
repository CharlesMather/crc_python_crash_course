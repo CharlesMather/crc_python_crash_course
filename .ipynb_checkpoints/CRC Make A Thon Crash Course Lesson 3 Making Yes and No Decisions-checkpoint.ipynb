{
 "cells": [
  {
   "cell_type": "markdown",
   "metadata": {},
   "source": [
    "# Making Yes and No Decisions in Python"
   ]
  },
  {
   "cell_type": "markdown",
   "metadata": {},
   "source": [
    "Lets print out the type of True in python"
   ]
  },
  {
   "cell_type": "code",
   "execution_count": null,
   "metadata": {},
   "outputs": [],
   "source": [
    "print('type of True and False: {}'.format(type(True)))"
   ]
  },
  {
   "cell_type": "markdown",
   "metadata": {},
   "source": [
    "True/False 1/0 these are called boolean or 'bool' values in programming"
   ]
  },
  {
   "cell_type": "markdown",
   "metadata": {},
   "source": [
    "Python allows for several conditional operators that return True or False"
   ]
  },
  {
   "cell_type": "code",
   "execution_count": null,
   "metadata": {},
   "outputs": [],
   "source": [
    "# Equality\n",
    "1 == 0"
   ]
  },
  {
   "cell_type": "code",
   "execution_count": null,
   "metadata": {},
   "outputs": [],
   "source": [
    "# Not Equal\n",
    "1 != 0"
   ]
  },
  {
   "cell_type": "code",
   "execution_count": null,
   "metadata": {},
   "outputs": [],
   "source": [
    "# Greater than and less than\n",
    "print(1 > 0)\n",
    "print(1 < 0)\n",
    "print(1 > 1)"
   ]
  },
  {
   "cell_type": "code",
   "execution_count": null,
   "metadata": {},
   "outputs": [],
   "source": [
    "# Can also check greater or equal\n",
    "print(1 >= 0)\n",
    "print(1 <= 0)\n",
    "print(1 >= 0)"
   ]
  },
  {
   "cell_type": "markdown",
   "metadata": {},
   "source": [
    "There are also keyword conditionals and, or, not"
   ]
  },
  {
   "cell_type": "code",
   "execution_count": null,
   "metadata": {},
   "outputs": [],
   "source": [
    "CRC_is_good = True\n",
    "having_no_money_is_good = False\n",
    "amount_of_money = 1000000"
   ]
  },
  {
   "cell_type": "code",
   "execution_count": null,
   "metadata": {},
   "outputs": [],
   "source": [
    "print('CRC and having no money is good: {}'.format(CRC_is_good and having_no_money_is_good ))\n",
    "print('CRC and having money is good: {}'.format(CRC_is_good and not having_no_money_is_good))\n",
    "print('CRC is good or having no money is good: {}'.format(CRC_is_good or having_no_money_is_good))\n",
    "print('CRC has more than 500,000 dollars and less than 1,500,000: {}'.format(amount_of_money > 500000 and amount_of_money < 1500000))"
   ]
  },
  {
   "cell_type": "markdown",
   "metadata": {},
   "source": [
    "### You can control your program using conditionals if and if-else"
   ]
  },
  {
   "cell_type": "code",
   "execution_count": null,
   "metadata": {},
   "outputs": [],
   "source": [
    "if CRC_is_good and amount_of_money > 500000:\n",
    "    print('time to throw a party'.upper())\n"
   ]
  },
  {
   "cell_type": "markdown",
   "metadata": {},
   "source": [
    "If - else statement"
   ]
  },
  {
   "cell_type": "code",
   "execution_count": null,
   "metadata": {},
   "outputs": [],
   "source": [
    "good_karma = 0\n",
    "if CRC_is_good:\n",
    "    good_karma += 1\n",
    "else:\n",
    "    good_karma -= 1\n",
    "print(good_karma)"
   ]
  },
  {
   "cell_type": "markdown",
   "metadata": {},
   "source": [
    "If elif else statement"
   ]
  },
  {
   "cell_type": "code",
   "execution_count": null,
   "metadata": {},
   "outputs": [],
   "source": [
    "if CRC_is_good and amount_of_money > 2000000:\n",
    "    print('throw party of the century'.upper())\n",
    "elif CRC_is_good and amount_of_money >= 1000000:\n",
    "    print('throw awesome party'.upper())\n",
    "elif CRC_is_good and amount_of_money >= 500000:\n",
    "    print('throw modest party')\n",
    "else:\n",
    "    print('no party... :(')"
   ]
  },
  {
   "cell_type": "markdown",
   "metadata": {},
   "source": [
    "### Exercises"
   ]
  },
  {
   "cell_type": "markdown",
   "metadata": {},
   "source": [
    "Write Your name and assign it to variable"
   ]
  },
  {
   "cell_type": "code",
   "execution_count": null,
   "metadata": {},
   "outputs": [],
   "source": []
  },
  {
   "cell_type": "markdown",
   "metadata": {},
   "source": [
    "Edit the code below check if it is longer than the name below using the len() function"
   ]
  },
  {
   "cell_type": "code",
   "execution_count": null,
   "metadata": {},
   "outputs": [],
   "source": [
    "name = 'Tim'"
   ]
  },
  {
   "cell_type": "markdown",
   "metadata": {},
   "source": [
    "Set a variable equal to your favorite number"
   ]
  },
  {
   "cell_type": "code",
   "execution_count": null,
   "metadata": {},
   "outputs": [],
   "source": []
  },
  {
   "cell_type": "markdown",
   "metadata": {},
   "source": [
    "Check if your favorite number is greater than 100, if yes print out Tim's name otherwise print your name"
   ]
  },
  {
   "cell_type": "code",
   "execution_count": null,
   "metadata": {},
   "outputs": [],
   "source": []
  },
  {
   "cell_type": "markdown",
   "metadata": {},
   "source": [
    "If your name is shorter than Tim's print out a battle cry, if it is longer, check if your number is less than 50. If yes, print out something funny. If no, add 50 to your number and print it"
   ]
  },
  {
   "cell_type": "code",
   "execution_count": null,
   "metadata": {},
   "outputs": [],
   "source": []
  }
 ],
 "metadata": {
  "kernelspec": {
   "display_name": "Python 3",
   "language": "python",
   "name": "python3"
  },
  "language_info": {
   "codemirror_mode": {
    "name": "ipython",
    "version": 3
   },
   "file_extension": ".py",
   "mimetype": "text/x-python",
   "name": "python",
   "nbconvert_exporter": "python",
   "pygments_lexer": "ipython3",
   "version": "3.7.0"
  }
 },
 "nbformat": 4,
 "nbformat_minor": 2
}
