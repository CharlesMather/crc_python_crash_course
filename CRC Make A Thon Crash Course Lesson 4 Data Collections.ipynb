{
 "cells": [
  {
   "cell_type": "markdown",
   "metadata": {},
   "source": [
    "# Creating and working with collections of data"
   ]
  },
  {
   "cell_type": "markdown",
   "metadata": {},
   "source": [
    "### Tuples"
   ]
  },
  {
   "cell_type": "markdown",
   "metadata": {},
   "source": [
    "Tuples are a type of **collection** declared using parenthesis, collections are a group of variables/data. There are multple ways to collect variables together in python and we will go through some of the basic ones here. Tuple values can be accessed via an index integer. "
   ]
  },
  {
   "cell_type": "code",
   "execution_count": null,
   "metadata": {
    "collapsed": true
   },
   "outputs": [],
   "source": [
    "a_tuple_of_strings = ('Hi!', 'I work', 'at', 'CRC!')\n",
    "print(a_tuple_of_strings)\n",
    "print(a_tuple_of_strings[0]) # remember indexes start at zero in python\n",
    "print(type(a_tuple_of_strings))"
   ]
  },
  {
   "cell_type": "markdown",
   "metadata": {},
   "source": [
    "Let's try to change which company we work at"
   ]
  },
  {
   "cell_type": "code",
   "execution_count": null,
   "metadata": {
    "collapsed": true
   },
   "outputs": [],
   "source": [
    "a_tuple_of_strings[3] = 'Chevron'"
   ]
  },
  {
   "cell_type": "markdown",
   "metadata": {},
   "source": [
    "What happened? Maybe we can't escape that easy... (obligatory **MUHAHAHAHA!** here...)"
   ]
  },
  {
   "cell_type": "markdown",
   "metadata": {},
   "source": [
    "Tuples can store more that just strings, try creating a tuple that stores both numbers and strings below, print out something from the tuple"
   ]
  },
  {
   "cell_type": "code",
   "execution_count": null,
   "metadata": {
    "collapsed": true
   },
   "outputs": [],
   "source": []
  },
  {
   "cell_type": "markdown",
   "metadata": {},
   "source": [
    "### Lists"
   ]
  },
  {
   "cell_type": "markdown",
   "metadata": {},
   "source": [
    "Lists are another type of collection that are declared with square brackets []. Let's make one."
   ]
  },
  {
   "cell_type": "code",
   "execution_count": null,
   "metadata": {
    "collapsed": true
   },
   "outputs": [],
   "source": [
    "my_favorite_things = ['computers', 'cute babies', 'ice cream', 'the weather outside right now', 'kittens', 'puppies', 7]"
   ]
  },
  {
   "cell_type": "markdown",
   "metadata": {},
   "source": [
    "Someone asks you to list some of your favorite things, you search the list above in your brain"
   ]
  },
  {
   "cell_type": "code",
   "execution_count": null,
   "metadata": {
    "collapsed": true
   },
   "outputs": [],
   "source": [
    "# They seem like an animal person so you say:\n",
    "print(\"I really like {}. Aren't they cute!\".format(my_favorite_things[4]))"
   ]
  },
  {
   "cell_type": "markdown",
   "metadata": {},
   "source": [
    "It turns out they are allergic to cats, they ask you what else you like."
   ]
  },
  {
   "cell_type": "code",
   "execution_count": null,
   "metadata": {
    "collapsed": true
   },
   "outputs": [],
   "source": [
    "# Lets try listing off a few things this time\n",
    "print('I really like {}'.format(my_favorite_things[:3]))"
   ]
  },
  {
   "cell_type": "markdown",
   "metadata": {},
   "source": [
    "Notice the ':' in the index for our list of favorite things? In python this is called **slicing** a collection."
   ]
  },
  {
   "cell_type": "code",
   "execution_count": null,
   "metadata": {
    "collapsed": true
   },
   "outputs": [],
   "source": [
    "# Let try slicing our list of favorite things other ways, the above example was a to index slice\n",
    "print(my_favorite_things[1:3]) # we can slice various ranges\n",
    "print(my_favorite_things[3:5])\n",
    "print(my_favorite_things[6:]) # this is a slice from an index"
   ]
  },
  {
   "cell_type": "markdown",
   "metadata": {},
   "source": [
    "You can also slice using negative numbers if you want."
   ]
  },
  {
   "cell_type": "code",
   "execution_count": null,
   "metadata": {
    "collapsed": true
   },
   "outputs": [],
   "source": [
    "print(my_favorite_things[:-3]) # we sliced off the last 3 entries\n",
    "print(my_favorite_things[-3:]) # we sliced off all but the last 3 entries"
   ]
  },
  {
   "cell_type": "markdown",
   "metadata": {},
   "source": [
    "Try to slice the list to include cute_babies and ice cream only using at least two different ways"
   ]
  },
  {
   "cell_type": "markdown",
   "metadata": {},
   "source": [
    "Ok so that is slicing, now your baby starts crying and continues to do so for an hour... You will always love your baby but it isn't among your favorite things at the moment... Let's update our list."
   ]
  },
  {
   "cell_type": "code",
   "execution_count": null,
   "metadata": {
    "collapsed": true
   },
   "outputs": [],
   "source": [
    "# the simplest way to remove cute babies from the list is the .remove() command\n",
    "print(my_favorite_things)\n",
    "my_favorite_things.remove('cute babies')\n",
    "print(my_favorite_things)"
   ]
  },
  {
   "cell_type": "markdown",
   "metadata": {},
   "source": [
    "The baby stops crying and is restored to his/her rightful place in your mental list of favorite things. "
   ]
  },
  {
   "cell_type": "code",
   "execution_count": null,
   "metadata": {
    "collapsed": true
   },
   "outputs": [],
   "source": [
    "# we can add things to a list using .append()\n",
    "print(my_favorite_things)\n",
    "my_favorite_things.append('cute babies')\n",
    "print(my_favorite_things)"
   ]
  },
  {
   "cell_type": "markdown",
   "metadata": {},
   "source": [
    "The baby once again wails their little heart out for all its worth, this time a new favorite thing needs to replace cute babies, peace and quiet..."
   ]
  },
  {
   "cell_type": "code",
   "execution_count": null,
   "metadata": {
    "collapsed": true
   },
   "outputs": [],
   "source": [
    "print(my_favorite_things)\n",
    "my_favorite_things[6] = 'peace and quiet'\n",
    "print(my_favorite_things)"
   ]
  },
  {
   "cell_type": "markdown",
   "metadata": {},
   "source": [
    "Notice how this is different than Tuples, when we tried to replace CRC with Chevron we couldn't. In programmer-speak this is a difference in **mutability**. Tuples are immutable and can't be changed once they are defined. Lists are mutable and can be changed dyanamically at any time."
   ]
  },
  {
   "cell_type": "markdown",
   "metadata": {},
   "source": [
    "We can also remove things from our list of favorite things using the 'del' command. The baby once again stops crying and can be added to the list."
   ]
  },
  {
   "cell_type": "code",
   "execution_count": null,
   "metadata": {
    "collapsed": true
   },
   "outputs": [],
   "source": [
    "print(my_favorite_things)\n",
    "del my_favorite_things[5]\n",
    "my_favorite_things.append('cute babies')\n",
    "print(my_favorite_things)"
   ]
  },
  {
   "cell_type": "markdown",
   "metadata": {},
   "source": [
    "After all that screaming, peace and quiet stays on the list, but babies can have your favorite number's spot."
   ]
  },
  {
   "cell_type": "markdown",
   "metadata": {},
   "source": [
    "Change the list of your favorite things to reflect **your** favorite things using what you learned above."
   ]
  },
  {
   "cell_type": "code",
   "execution_count": null,
   "metadata": {
    "collapsed": true
   },
   "outputs": [],
   "source": []
  },
  {
   "cell_type": "markdown",
   "metadata": {},
   "source": [
    "### Dictionaries"
   ]
  },
  {
   "cell_type": "markdown",
   "metadata": {},
   "source": [
    "Dictionaries are an important type of collection where data is retrieved and added to the collection via 'keys' instead of indexes. In python these collections are known as dictionaries, but in some programming languages they are known as 'hash maps' or just maps. Dictionaries work by taking the key and converting to a unique 'hash' which is a shortcut in memory to the location where a piece of data is stored. When you are looking up a piece of data this saves a tremendous amount of time in a large collection of data because you can retrieve data near instantly instead of having to search through the data piece by piece until you locate it."
   ]
  },
  {
   "cell_type": "code",
   "execution_count": null,
   "metadata": {
    "collapsed": true
   },
   "outputs": [],
   "source": [
    "# You can define dictionaried in code like so with: {key : value,}\n",
    "CRC_Roles = {'CEO' : 'Todd Stevens',\n",
    "             'EVP Development': 'Shawn Kerns',\n",
    "             'EVP Exploration Type_Stuff': 'Darren Williams',\n",
    "             'Lowly Data Scientist' : 'Nathan Jones',}\n",
    "# Values can be retrieved via the key\n",
    "print(CRC_Roles['CEO'])"
   ]
  },
  {
   "cell_type": "markdown",
   "metadata": {},
   "source": [
    "You can assign new keys"
   ]
  },
  {
   "cell_type": "code",
   "execution_count": null,
   "metadata": {
    "collapsed": true
   },
   "outputs": [],
   "source": [
    "CRC_Roles['Emperor-King of BDA'] = 'Mike Moustakis'\n",
    "print(CRC_Roles)"
   ]
  },
  {
   "cell_type": "markdown",
   "metadata": {},
   "source": [
    "Each key can only be assigned to one piece of data."
   ]
  },
  {
   "cell_type": "code",
   "execution_count": null,
   "metadata": {
    "collapsed": true
   },
   "outputs": [],
   "source": [
    "print(CRC_Roles['Lowly Data Scientist'])\n",
    "CRC_Roles['Lowly Data Scientist'] = 'Eric Robinson'\n",
    "print(CRC_Roles['Lowly Data Scientist'])"
   ]
  },
  {
   "cell_type": "markdown",
   "metadata": {},
   "source": [
    "**BUT** that piece of data can be a list..."
   ]
  },
  {
   "cell_type": "code",
   "execution_count": null,
   "metadata": {
    "collapsed": true
   },
   "outputs": [],
   "source": [
    "print(CRC_Roles['Lowly Data Scientist'])\n",
    "CRC_Roles['Lowly Data Scientist'] = ['Nathan Jones' , 'Eric Robinson']\n",
    "print(CRC_Roles['Lowly Data Scientist'])"
   ]
  },
  {
   "cell_type": "markdown",
   "metadata": {},
   "source": [
    "You can pull values out of a list in a dictionary just as if it were a list"
   ]
  },
  {
   "cell_type": "code",
   "execution_count": null,
   "metadata": {
    "collapsed": true
   },
   "outputs": [],
   "source": [
    "print(CRC_Roles['Lowly Data Scientist'][0])\n",
    "print(CRC_Roles['Lowly Data Scientist'][1])"
   ]
  },
  {
   "cell_type": "markdown",
   "metadata": {},
   "source": [
    "You can extract the keys available in the dictionary the .keys() function"
   ]
  },
  {
   "cell_type": "code",
   "execution_count": null,
   "metadata": {
    "collapsed": true
   },
   "outputs": [],
   "source": [
    "print(CRC_Roles.keys())\n"
   ]
  },
  {
   "cell_type": "markdown",
   "metadata": {},
   "source": [
    "You can make the keys a list using list()"
   ]
  },
  {
   "cell_type": "code",
   "execution_count": null,
   "metadata": {
    "collapsed": true
   },
   "outputs": [],
   "source": [
    "print(list(CRC_Roles.keys()))\n",
    "print(list(CRC_Roles.keys())[0]) # You can chain the call to the list index with square brackets"
   ]
  },
  {
   "cell_type": "markdown",
   "metadata": {},
   "source": [
    "You can do the same for the values in the dictionary."
   ]
  },
  {
   "cell_type": "code",
   "execution_count": null,
   "metadata": {
    "collapsed": true
   },
   "outputs": [],
   "source": [
    "print(list(CRC_Roles.values())) # Note the list with in a list below"
   ]
  },
  {
   "cell_type": "markdown",
   "metadata": {},
   "source": [
    "Add a few members of your team to the dictionary, print out three people's names with their role in the company"
   ]
  },
  {
   "cell_type": "code",
   "execution_count": null,
   "metadata": {
    "collapsed": true
   },
   "outputs": [],
   "source": []
  },
  {
   "cell_type": "markdown",
   "metadata": {},
   "source": [
    "### Sets"
   ]
  },
  {
   "cell_type": "markdown",
   "metadata": {},
   "source": [
    "Python sets are another useful type of data collection. They ensure that unique data values only appear once in the collection. The also allow for fast set operations (intersections, unions, etc). They can be created with {value} or from a collection with the set() function."
   ]
  },
  {
   "cell_type": "code",
   "execution_count": null,
   "metadata": {
    "collapsed": true
   },
   "outputs": [],
   "source": [
    "# Sets can be declared with curly braces\n",
    "ways_to_name_perfs = {'perf', 'PERF', 'perforated', 'PERFORATED', \"perf'd\", \"PERF'D\", 'Perf', \"lots 'O holes\"}\n",
    "print(ways_to_name_perfs)\n",
    "print(type(ways_to_name_perfs))"
   ]
  },
  {
   "cell_type": "code",
   "execution_count": null,
   "metadata": {
    "collapsed": true
   },
   "outputs": [],
   "source": [
    "# This dataset comes is a list\n",
    "ways_to_name_perfs_dataset2 = ['perf', 'perf', 'PERF', \"PERF'D\", 'slotted'] \n",
    "#Let convert it to a set\n",
    "ways_to_name_perfs_dataset2 = set(ways_to_name_perfs_dataset2)\n",
    "print(type(ways_to_name_perfs_dataset2))\n",
    "print('Note that the duplicate perf is gone')\n",
    "print(ways_to_name_perfs_dataset2)"
   ]
  },
  {
   "cell_type": "markdown",
   "metadata": {},
   "source": [
    "Let's see what the two sets have in common"
   ]
  },
  {
   "cell_type": "code",
   "execution_count": null,
   "metadata": {
    "collapsed": true
   },
   "outputs": [],
   "source": [
    "same_in_both = ways_to_name_perfs_dataset2.intersection(ways_to_name_perfs)\n",
    "print(same_in_both)\n",
    "# You can also do:\n",
    "print(ways_to_name_perfs_dataset2 & ways_to_name_perfs)"
   ]
  },
  {
   "cell_type": "markdown",
   "metadata": {},
   "source": [
    "Let's see what both sets together looks like"
   ]
  },
  {
   "cell_type": "code",
   "execution_count": null,
   "metadata": {
    "collapsed": true
   },
   "outputs": [],
   "source": [
    "all_combined = ways_to_name_perfs_dataset2.union(ways_to_name_perfs)\n",
    "print(all_combined)\n",
    "# You can also do:\n",
    "print(ways_to_name_perfs_dataset2 | ways_to_name_perfs)"
   ]
  },
  {
   "cell_type": "markdown",
   "metadata": {},
   "source": [
    "Things that are in ways_to_name_perfs_dataset2 but not in ways_to_name_perfs"
   ]
  },
  {
   "cell_type": "code",
   "execution_count": null,
   "metadata": {
    "collapsed": true
   },
   "outputs": [],
   "source": [
    "difference = ways_to_name_perfs_dataset2.difference(ways_to_name_perfs)\n",
    "print(difference)\n",
    "# You can also do:\n",
    "print(ways_to_name_perfs_dataset2 - ways_to_name_perfs)"
   ]
  },
  {
   "cell_type": "markdown",
   "metadata": {},
   "source": [
    "Full list of set operations here: https://docs.python.org/2/library/sets.html\n",
    "        "
   ]
  },
  {
   "cell_type": "markdown",
   "metadata": {},
   "source": [
    "After making a set, you can convert it back to a list using list()"
   ]
  },
  {
   "cell_type": "code",
   "execution_count": null,
   "metadata": {
    "collapsed": true
   },
   "outputs": [],
   "source": [
    "all_ways_to_name_perfs = list(all_combined)\n",
    "print(all_ways_to_name_perfs)"
   ]
  },
  {
   "cell_type": "markdown",
   "metadata": {},
   "source": [
    "Try making a set of all the ways you have seen API numbers names in CRC's data tables, afterwards copy somebody else's list and make a list of the names you had in common and the ones where your list had something that their's didn't."
   ]
  },
  {
   "cell_type": "code",
   "execution_count": null,
   "metadata": {
    "collapsed": true
   },
   "outputs": [],
   "source": []
  }
 ],
 "metadata": {
  "kernelspec": {
   "display_name": "Python 3",
   "language": "python",
   "name": "python3"
  },
  "language_info": {
   "codemirror_mode": {
    "name": "ipython",
    "version": 3
   },
   "file_extension": ".py",
   "mimetype": "text/x-python",
   "name": "python",
   "nbconvert_exporter": "python",
   "pygments_lexer": "ipython3",
   "version": "3.6.3"
  }
 },
 "nbformat": 4,
 "nbformat_minor": 2
}
